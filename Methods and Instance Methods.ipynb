{
 "cells": [
  {
   "cell_type": "raw",
   "id": "8a337a51",
   "metadata": {},
   "source": [
    "instance methods are the methods of yr class that make use of self parameter to access & modify the instance attributes of your class.\n",
    "Previously we got errors that got argument but didnt received any in this notebook we are dealing with those errors without using of self parameter."
   ]
  },
  {
   "cell_type": "code",
   "execution_count": 5,
   "id": "0b377401",
   "metadata": {},
   "outputs": [
    {
     "name": "stdout",
     "output_type": "stream",
     "text": [
      "name is: shar\n"
     ]
    },
    {
     "ename": "TypeError",
     "evalue": "welcome_message() takes 0 positional arguments but 1 was given",
     "output_type": "error",
     "traceback": [
      "\u001b[1;31m---------------------------------------------------------------------------\u001b[0m",
      "\u001b[1;31mTypeError\u001b[0m                                 Traceback (most recent call last)",
      "\u001b[1;32m<ipython-input-5-3e608fd4f6b2>\u001b[0m in \u001b[0;36m<module>\u001b[1;34m\u001b[0m\n\u001b[0;32m     11\u001b[0m \u001b[0memployee\u001b[0m\u001b[1;33m=\u001b[0m\u001b[0mEmployee\u001b[0m\u001b[1;33m(\u001b[0m\u001b[1;33m)\u001b[0m\u001b[1;33m\u001b[0m\u001b[1;33m\u001b[0m\u001b[0m\n\u001b[0;32m     12\u001b[0m \u001b[0memployee\u001b[0m\u001b[1;33m.\u001b[0m\u001b[0memployeename\u001b[0m\u001b[1;33m(\u001b[0m\u001b[1;33m)\u001b[0m\u001b[1;33m\u001b[0m\u001b[1;33m\u001b[0m\u001b[0m\n\u001b[1;32m---> 13\u001b[1;33m \u001b[0memployee\u001b[0m\u001b[1;33m.\u001b[0m\u001b[0mwelcome_message\u001b[0m\u001b[1;33m(\u001b[0m\u001b[1;33m)\u001b[0m\u001b[1;33m\u001b[0m\u001b[1;33m\u001b[0m\u001b[0m\n\u001b[0m",
      "\u001b[1;31mTypeError\u001b[0m: welcome_message() takes 0 positional arguments but 1 was given"
     ]
    }
   ],
   "source": [
    "#e.g\n",
    "class Employee():\n",
    "    \n",
    "    def employeename(self):\n",
    "        self.name= 'shar'\n",
    "        print('name is:', self.name)\n",
    "    \n",
    "    #@staticmethod\n",
    "    def welcome_message():\n",
    "        print('welcome to the my code')\n",
    "employee=Employee()\n",
    "employee.employeename()\n",
    "employee.welcome_message()"
   ]
  },
  {
   "cell_type": "code",
   "execution_count": 7,
   "id": "ee30113d",
   "metadata": {},
   "outputs": [],
   "source": [
    "# Staticmethod ignore the binding of the object and improve the functionality\n"
   ]
  },
  {
   "cell_type": "code",
   "execution_count": null,
   "id": "bd6dcbc9",
   "metadata": {},
   "outputs": [],
   "source": []
  }
 ],
 "metadata": {
  "kernelspec": {
   "display_name": "Python 3",
   "language": "python",
   "name": "python3"
  },
  "language_info": {
   "codemirror_mode": {
    "name": "ipython",
    "version": 3
   },
   "file_extension": ".py",
   "mimetype": "text/x-python",
   "name": "python",
   "nbconvert_exporter": "python",
   "pygments_lexer": "ipython3",
   "version": "3.8.8"
  }
 },
 "nbformat": 4,
 "nbformat_minor": 5
}
