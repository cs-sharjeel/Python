{
 "cells": [
  {
   "cell_type": "code",
   "execution_count": 5,
   "id": "25d859f5",
   "metadata": {},
   "outputs": [],
   "source": [
    "#basic example\n"
   ]
  },
  {
   "cell_type": "code",
   "execution_count": 41,
   "id": "076c5b56",
   "metadata": {},
   "outputs": [
    {
     "name": "stdout",
     "output_type": "stream",
     "text": [
      "availed leaves are exceading\n"
     ]
    }
   ],
   "source": [
    "class Employee:\n",
    " \n",
    "    designation= 'AI.Developer'\n",
    "    projects = 3 #default value\n",
    "    leaves=10\n",
    "\n",
    "    def leave_calc(self):\n",
    "        if self.leaves >=10:\n",
    "            print(\"availed leaves are exceading\")\n",
    "        else:\n",
    "            print(\"you have leaves remaning...\")\n",
    "\n",
    "ob1=Employee()\n",
    "ob1.leave_calc()"
   ]
  },
  {
   "cell_type": "code",
   "execution_count": 42,
   "id": "1fd19ff1",
   "metadata": {},
   "outputs": [
    {
     "name": "stdout",
     "output_type": "stream",
     "text": [
      "availed leaves are exceading\n"
     ]
    }
   ],
   "source": [
    "# Problem\n",
    "ob1=Employee()\n",
    "ob1.leave_calc()"
   ]
  },
  {
   "cell_type": "code",
   "execution_count": 44,
   "id": "5a0dcbd6",
   "metadata": {},
   "outputs": [],
   "source": [
    "ob1.name ='jawad'"
   ]
  },
  {
   "cell_type": "code",
   "execution_count": 45,
   "id": "fec9e9ff",
   "metadata": {},
   "outputs": [
    {
     "data": {
      "text/plain": [
       "'jawad'"
      ]
     },
     "execution_count": 45,
     "metadata": {},
     "output_type": "execute_result"
    }
   ],
   "source": [
    "ob1.name"
   ]
  },
  {
   "cell_type": "code",
   "execution_count": 46,
   "id": "7e03acb3",
   "metadata": {},
   "outputs": [],
   "source": [
    "ob2=Employee()"
   ]
  },
  {
   "cell_type": "code",
   "execution_count": 47,
   "id": "0fa3b325",
   "metadata": {},
   "outputs": [
    {
     "ename": "AttributeError",
     "evalue": "'Employee' object has no attribute 'name'",
     "output_type": "error",
     "traceback": [
      "\u001b[1;31m---------------------------------------------------------------------------\u001b[0m",
      "\u001b[1;31mAttributeError\u001b[0m                            Traceback (most recent call last)",
      "\u001b[1;32m<ipython-input-47-8beb3ca61502>\u001b[0m in \u001b[0;36m<module>\u001b[1;34m\u001b[0m\n\u001b[1;32m----> 1\u001b[1;33m \u001b[0mob2\u001b[0m\u001b[1;33m.\u001b[0m\u001b[0mname\u001b[0m\u001b[1;33m\u001b[0m\u001b[1;33m\u001b[0m\u001b[0m\n\u001b[0m",
      "\u001b[1;31mAttributeError\u001b[0m: 'Employee' object has no attribute 'name'"
     ]
    }
   ],
   "source": [
    "ob2.name"
   ]
  },
  {
   "cell_type": "code",
   "execution_count": 48,
   "id": "6cd5acae",
   "metadata": {},
   "outputs": [],
   "source": [
    "obj1.projects=1 #update default projects for perticular objects"
   ]
  },
  {
   "cell_type": "code",
   "execution_count": 49,
   "id": "fc7ce8f9",
   "metadata": {},
   "outputs": [
    {
     "data": {
      "text/plain": [
       "3"
      ]
     },
     "execution_count": 49,
     "metadata": {},
     "output_type": "execute_result"
    }
   ],
   "source": [
    "obj2.projects"
   ]
  },
  {
   "cell_type": "code",
   "execution_count": 57,
   "id": "fe78785c",
   "metadata": {},
   "outputs": [
    {
     "data": {
      "text/plain": [
       "1"
      ]
     },
     "execution_count": 57,
     "metadata": {},
     "output_type": "execute_result"
    }
   ],
   "source": [
    "obj1.projects"
   ]
  }
 ],
 "metadata": {
  "kernelspec": {
   "display_name": "Python 3",
   "language": "python",
   "name": "python3"
  },
  "language_info": {
   "codemirror_mode": {
    "name": "ipython",
    "version": 3
   },
   "file_extension": ".py",
   "mimetype": "text/x-python",
   "name": "python",
   "nbconvert_exporter": "python",
   "pygments_lexer": "ipython3",
   "version": "3.8.8"
  }
 },
 "nbformat": 4,
 "nbformat_minor": 5
}
