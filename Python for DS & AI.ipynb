{
 "cells": [
  {
   "cell_type": "code",
   "execution_count": 2,
   "id": "fb971f52",
   "metadata": {},
   "outputs": [
    {
     "name": "stdout",
     "output_type": "stream",
     "text": [
      "3\n"
     ]
    }
   ],
   "source": [
    "def add(a,b):\n",
    "    c=a+b\n",
    "    print(c)\n",
    "add(1,2)\n",
    "    "
   ]
  },
  {
   "cell_type": "code",
   "execution_count": null,
   "id": "066b7fa1",
   "metadata": {},
   "outputs": [],
   "source": []
  },
  {
   "cell_type": "code",
   "execution_count": 6,
   "id": "6b9864ad",
   "metadata": {},
   "outputs": [
    {
     "name": "stdout",
     "output_type": "stream",
     "text": [
      "Album rating 10.1 index: 0\n",
      "Album rating 9.8 index: 1\n",
      "Album rating 7.4 index: 2\n",
      "Album rating 3.2 index: 3\n"
     ]
    }
   ],
   "source": [
    "album=[10.1,9.8,7.4,3.2]\n",
    "for i,r in enumerate(album):\n",
    "    print(\"Album rating\",r,\"index:\",i)\n",
    "    "
   ]
  },
  {
   "cell_type": "code",
   "execution_count": 16,
   "id": "60ea61e4",
   "metadata": {},
   "outputs": [
    {
     "name": "stdout",
     "output_type": "stream",
     "text": [
      "1994\n",
      "2021\n"
     ]
    }
   ],
   "source": [
    "def D():\n",
    "    Date=1994\n",
    "    return (Date)\n",
    "Date=2021\n",
    "print(D()) #local scope\n",
    "print(Date) # Global scope\n",
    "    "
   ]
  },
  {
   "cell_type": "code",
   "execution_count": 26,
   "id": "e7cab360",
   "metadata": {},
   "outputs": [
    {
     "name": "stdout",
     "output_type": "stream",
     "text": [
      "sadfffffffff\n",
      "True\n",
      "sadfffffffff\n"
     ]
    }
   ],
   "source": [
    "#file=open(\"C:/Users/Sharjeel Ahmed/Desktop/sj.txt\",\"r\")\n",
    "with open(\"C:/Users/Sharjeel Ahmed/Desktop/sj.txt\",\"r\") as file:\n",
    "    stuff=file.read()\n",
    "    print(stuff)\n",
    "print(file.closed)\n",
    "print(stuff)"
   ]
  },
  {
   "cell_type": "code",
   "execution_count": 33,
   "id": "efb54296",
   "metadata": {},
   "outputs": [
    {
     "name": "stdout",
     "output_type": "stream",
     "text": [
      "Line 1\n",
      "\n",
      "Line 2\n",
      "\n",
      "Line x...x\n"
     ]
    }
   ],
   "source": [
    "with open(\"C:/Users/Sharjeel Ahmed/Desktop/sj.txt\",\"r\") as filee:\n",
    "    l1=filee.readline()\n",
    "    print(l1)\n",
    "    l1=filee.readline()\n",
    "    print(l1)\n",
    "    l1=filee.readline()\n",
    "    print(l1)"
   ]
  },
  {
   "cell_type": "code",
   "execution_count": 40,
   "id": "243e9c8b",
   "metadata": {},
   "outputs": [
    {
     "name": "stdout",
     "output_type": "stream",
     "text": [
      "Line 1\n",
      "\n",
      "Line 2\n",
      "\n",
      "Line x...x\n"
     ]
    }
   ],
   "source": [
    "with open(\"C:/Users/Sharjeel Ahmed/Desktop/sj.txt\",\"r\") as d:\n",
    "    for line in d:\n",
    "        print(line)"
   ]
  },
  {
   "cell_type": "code",
   "execution_count": 46,
   "id": "3c548c18",
   "metadata": {},
   "outputs": [
    {
     "name": "stdout",
     "output_type": "stream",
     "text": [
      "Line 1234567890\n"
     ]
    }
   ],
   "source": [
    "with open(\"C:/Users/Sharjeel Ahmed/Desktop/sj.txt\",\"r\") as c:\n",
    "    l=c.readline(15)\n",
    "    print(l)"
   ]
  },
  {
   "cell_type": "code",
   "execution_count": null,
   "id": "7fc51da1",
   "metadata": {},
   "outputs": [],
   "source": []
  }
 ],
 "metadata": {
  "kernelspec": {
   "display_name": "Python 3",
   "language": "python",
   "name": "python3"
  },
  "language_info": {
   "codemirror_mode": {
    "name": "ipython",
    "version": 3
   },
   "file_extension": ".py",
   "mimetype": "text/x-python",
   "name": "python",
   "nbconvert_exporter": "python",
   "pygments_lexer": "ipython3",
   "version": "3.8.8"
  }
 },
 "nbformat": 4,
 "nbformat_minor": 5
}
