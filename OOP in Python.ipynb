{
 "cells": [
  {
   "cell_type": "code",
   "execution_count": 1,
   "id": "97cd8a98",
   "metadata": {},
   "outputs": [],
   "source": [
    "#basic example\n"
   ]
  },
  {
   "cell_type": "code",
   "execution_count": 2,
   "id": "5711c72f",
   "metadata": {},
   "outputs": [
    {
     "name": "stdout",
     "output_type": "stream",
     "text": [
      "availed leaves are exceading\n"
     ]
    }
   ],
   "source": [
    "class Employee:\n",
    "    name = 'Sharjeel'\n",
    "    designation= 'AI.Developer'\n",
    "    projects = 3\n",
    "    leaves=10\n",
    "\n",
    "    def leave_calc(self):\n",
    "        if self.leaves >=10:\n",
    "            print(\"availed leaves are exceading\")\n",
    "        else:\n",
    "            print(\"you have leaves remaning...\")\n",
    "\n",
    "obj=Employee()\n",
    "obj.leave_calc()"
   ]
  },
  {
   "cell_type": "code",
   "execution_count": null,
   "id": "f3b48f5e",
   "metadata": {},
   "outputs": [],
   "source": []
  }
 ],
 "metadata": {
  "kernelspec": {
   "display_name": "Python 3",
   "language": "python",
   "name": "python3"
  },
  "language_info": {
   "codemirror_mode": {
    "name": "ipython",
    "version": 3
   },
   "file_extension": ".py",
   "mimetype": "text/x-python",
   "name": "python",
   "nbconvert_exporter": "python",
   "pygments_lexer": "ipython3",
   "version": "3.8.8"
  }
 },
 "nbformat": 4,
 "nbformat_minor": 5
}
